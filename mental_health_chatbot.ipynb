{
 "cells": [
  {
   "cell_type": "markdown",
   "id": "e4beb062",
   "metadata": {},
   "source": [
    "# Create a mental chatbot using Prompt engineering"
   ]
  },
  {
   "cell_type": "code",
   "execution_count": null,
   "id": "e5e74992",
   "metadata": {},
   "outputs": [],
   "source": [
    "# load openai key and required modules\n",
    "import os\n",
    "import openai\n",
    "from dotenv import load_dotenv, find_dotenv\n",
    "_ = load_dotenv(find_dotenv()) # read local .env file\n",
    "\n",
    "openai.api_key  = os.getenv('OPENAI_API_KEY')"
   ]
  },
  {
   "cell_type": "code",
   "execution_count": null,
   "id": "39cca986",
   "metadata": {},
   "outputs": [],
   "source": [
    "# helper function to get response\n",
    "\n",
    "def get_completion_from_messages(messages, model=\"gpt-3.5-turbo\", temperature=0):\n",
    "    response = openai.ChatCompletion.create(\n",
    "        model=model,\n",
    "        messages=messages,\n",
    "        temperature=temperature, # this is the degree of randomness of the model's output\n",
    "    )\n",
    "#     print(str(response.choices[0].message))\n",
    "    return response.choices[0].message[\"content\"]"
   ]
  },
  {
   "cell_type": "code",
   "execution_count": null,
   "id": "bcee6988",
   "metadata": {},
   "outputs": [],
   "source": [
    "# helper function to collect the user message and get response\n",
    "def collect_messages(_):\n",
    "    prompt = inp.value_input\n",
    "    inp.value = ''\n",
    "    context.append({'role':'user', 'content':f\"{prompt}\"})\n",
    "    response = get_completion_from_messages(context) \n",
    "    context.append({'role':'assistant', 'content':f\"{response}\"})\n",
    "    panels.append(\n",
    "        pn.Row('User:', pn.pane.Markdown(prompt, width=600)))\n",
    "    panels.append(\n",
    "        pn.Row('Assistant:', pn.pane.Markdown(response, width=600, style={'background-color': '#F6F6F6'})))\n",
    " \n",
    "    return pn.Column(*panels)"
   ]
  },
  {
   "cell_type": "code",
   "execution_count": null,
   "id": "4bdeabee",
   "metadata": {},
   "outputs": [],
   "source": [
    "import panel as pn  # GUI\n",
    "pn.extension()\n",
    "\n",
    "panels = [] # collect display \n",
    "\n",
    "# prompt written for a mental health assistant chatbot\n",
    "\n",
    "context = [ {'role':'system', 'content':\"\"\"\n",
    "You are a mental health assistant, an automated service to help the user \\\n",
    "You first greet the customer, then ask how can you help them \\\n",
    "- Ask howlong they are experiencing \\\n",
    "- If the problem sounds serious and lasts for more than 6 months \\\n",
    "    then refer them to go and see a medical professional right way. \\\n",
    "- otherwise, Ask politely whether the user would like to reveal the following details to give a more specific solution?\n",
    "         1. gender \\\n",
    "         2. age \\\n",
    "         3. job \\\n",
    "         4. location\\\n",
    "- Ask the user gender and age specific question like a Psychiatrist that might cause their problem \\\n",
    "    like are you pregnant? break up?, etc \n",
    "- Ask one question at a time and respond based on the users response.\n",
    "\n",
    "- If user is still not satisfied provide them with phone numbers \\\n",
    "    where they can get mental advice from real experts near their place.\\\n",
    "\n",
    "- Use consoling words while talking and always talk positively.\n",
    "\n",
    "- follow all the instructions step by step\n",
    "\"\"\"} ]  # accumulate messages\n",
    "\n",
    "# display in a dashboard\n",
    "\n",
    "inp = pn.widgets.TextInput(value=\"Hi\", placeholder='Enter text here…')\n",
    "button_conversation = pn.widgets.Button(name=\"Chat!\")\n",
    "\n",
    "interactive_conversation = pn.bind(collect_messages, button_conversation)\n",
    "\n",
    "dashboard = pn.Column(\n",
    "    inp,\n",
    "    pn.Row(button_conversation),\n",
    "    pn.panel(interactive_conversation, loading_indicator=True, height=300),\n",
    ")\n",
    "\n",
    "dashboard"
   ]
  },
  {
   "cell_type": "markdown",
   "id": "be27e499",
   "metadata": {},
   "source": [
    "# Reference \n",
    "https://learn.deeplearning.ai/chatgpt-prompt-eng/lesson/8/chatbot"
   ]
  },
  {
   "cell_type": "code",
   "execution_count": null,
   "id": "1852de2f",
   "metadata": {},
   "outputs": [],
   "source": []
  }
 ],
 "metadata": {
  "kernelspec": {
   "display_name": "Python 3 (ipykernel)",
   "language": "python",
   "name": "python3"
  },
  "language_info": {
   "codemirror_mode": {
    "name": "ipython",
    "version": 3
   },
   "file_extension": ".py",
   "mimetype": "text/x-python",
   "name": "python",
   "nbconvert_exporter": "python",
   "pygments_lexer": "ipython3",
   "version": "3.10.6"
  }
 },
 "nbformat": 4,
 "nbformat_minor": 5
}
